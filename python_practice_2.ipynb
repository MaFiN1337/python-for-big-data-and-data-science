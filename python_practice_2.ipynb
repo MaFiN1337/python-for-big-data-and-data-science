{
  "cells": [
    {
      "cell_type": "markdown",
      "metadata": {
        "id": "view-in-github",
        "colab_type": "text"
      },
      "source": [
        "<a href=\"https://colab.research.google.com/github/MaFiN1337/python-for-big-data-and-data-science/blob/master/python_practice_2.ipynb\" target=\"_parent\"><img src=\"https://colab.research.google.com/assets/colab-badge.svg\" alt=\"Open In Colab\"/></a>"
      ]
    },
    {
      "cell_type": "markdown",
      "metadata": {
        "id": "p9wwt0LZzNvn"
      },
      "source": [
        "# I. Змінні та памʼять."
      ]
    },
    {
      "cell_type": "markdown",
      "metadata": {
        "id": "HTJrrm95xSV9"
      },
      "source": [
        "1. Створити змінні, що посилаються на два цілих числа, що однакові за значенням, де значення належить проміжку від -5 до 256. Перевірте, чи будуть ці змінні рівні тільки за значенням або ж ще будуть посилатися на один і той самий обʼєкт в памʼяті? Наведіть код та дайте текстову відповідь нижче."
      ]
    },
    {
      "cell_type": "code",
      "execution_count": null,
      "metadata": {
        "id": "TATni2vzayjG",
        "outputId": "24925f18-9e10-4741-f7d8-200534919f80"
      },
      "outputs": [
        {
          "name": "stdout",
          "output_type": "stream",
          "text": [
            "True\n",
            "True\n"
          ]
        }
      ],
      "source": [
        "first_var = 5\n",
        "second_var = 5\n",
        "print(first_var == second_var)\n",
        "print(id(first_var) == id(second_var))"
      ]
    },
    {
      "cell_type": "markdown",
      "metadata": {
        "id": "zfRG_o3WbRdg"
      },
      "source": [
        "*місце для текстової відповіді"
      ]
    },
    {
      "cell_type": "markdown",
      "metadata": {
        "id": "NqePttmUMrOW"
      },
      "source": [
        "ID обох змінних однакові, бо вони посилаються на одну й ту ж комірку в пам'яті. Це так, оскільки для чисел від -5 до 256 пайтон зробив оптимізацію, що змінні, які посилаються на ці числа містяться в одному місці і не дублюються (бо ці числа дуже часто використовуються)"
      ]
    },
    {
      "cell_type": "markdown",
      "metadata": {
        "id": "ISORzt6M3vAt"
      },
      "source": [
        "2. За допомогою якої функції можна перевірити належність змінної до вказаного типу даних (напр. чи змінна True посилається на значення булевого та цілочисленого типу)?"
      ]
    },
    {
      "cell_type": "code",
      "execution_count": null,
      "metadata": {
        "id": "9vL9CFaMbfyo",
        "outputId": "57846049-72a4-4e6c-f8f9-79559b241772"
      },
      "outputs": [
        {
          "name": "stdout",
          "output_type": "stream",
          "text": [
            "True\n",
            "True\n"
          ]
        }
      ],
      "source": [
        "var_to_check = True\n",
        "print(isinstance(var_to_check, bool))\n",
        "print(isinstance(var_to_check, int))"
      ]
    },
    {
      "cell_type": "markdown",
      "metadata": {
        "id": "tRxugKAxwYLw"
      },
      "source": [
        "# II. Цілі числа та числа з рухомою комою"
      ]
    },
    {
      "cell_type": "markdown",
      "metadata": {
        "id": "NLHkgd5Gybc8"
      },
      "source": [
        "3. Створити дві змінні, що посилаються на будь-які ціле число та число з рухомою комою та продемонструвати такі арифметичні операції: додавання, віднімання, ділення, множення, ділення без залишку, ділення по модулю, приведення до ступеню. Всі результати операцій вивести на екран."
      ]
    },
    {
      "cell_type": "code",
      "execution_count": null,
      "metadata": {
        "id": "nb8u_3pjb2cA",
        "outputId": "082eb536-6e8c-4e0f-b304-488774fd2eab"
      },
      "outputs": [
        {
          "name": "stdout",
          "output_type": "stream",
          "text": [
            "10.7\n",
            "3.3\n",
            "1.8918918918918919\n",
            "25.900000000000002\n",
            "1.0\n",
            "3.3\n",
            "1339.253370553094\n"
          ]
        }
      ],
      "source": [
        "integer_var = 7\n",
        "double_var = 3.7\n",
        "print(integer_var + double_var)\n",
        "print(integer_var - double_var)\n",
        "print(integer_var / double_var)\n",
        "print(integer_var * double_var)\n",
        "print(integer_var // double_var)\n",
        "print(integer_var % double_var)\n",
        "print(integer_var ** double_var)"
      ]
    },
    {
      "cell_type": "markdown",
      "metadata": {
        "id": "1kBClKgPzZnC"
      },
      "source": [
        "4. Використовуючи змінні з вправи 3, продемонструйте механізм явного перетворення типів, де числа з рухомою комою перетворюються на цілі числа. Також визначте змінну, що посилається на значення булевого типу і спробуйте явно привести її до цілого числа."
      ]
    },
    {
      "cell_type": "code",
      "execution_count": null,
      "metadata": {
        "id": "TbqJbkeUcKsD",
        "outputId": "b8b212ee-8ec9-45ef-d9c9-5601635fbe06"
      },
      "outputs": [
        {
          "name": "stdout",
          "output_type": "stream",
          "text": [
            "0\n",
            "3\n"
          ]
        }
      ],
      "source": [
        "double_var = int(double_var)\n",
        "boolean_var = False\n",
        "boolean_var = int(boolean_var)\n",
        "print(boolean_var)\n",
        "print(double_var)\n"
      ]
    },
    {
      "cell_type": "markdown",
      "metadata": {
        "id": "EVJ7AflwxrZi"
      },
      "source": [
        "# IІІ. Рядки (String)."
      ]
    },
    {
      "cell_type": "markdown",
      "metadata": {
        "id": "_s5ECzz9zE61"
      },
      "source": [
        "5. Створити пустий рядок двома різними способами."
      ]
    },
    {
      "cell_type": "code",
      "execution_count": null,
      "metadata": {
        "id": "fkZJHu9Scvc-"
      },
      "outputs": [],
      "source": [
        "first_empty_str = \"\"\n",
        "second_empty_str = str()"
      ]
    },
    {
      "cell_type": "markdown",
      "metadata": {
        "id": "4Bdn9J3MzLf_"
      },
      "source": [
        "6. Створити рядок з апострофом. Зробити його сирим. Вивести обидва рядка на екран."
      ]
    },
    {
      "cell_type": "code",
      "execution_count": null,
      "metadata": {
        "id": "ivji_hsmc0GH",
        "outputId": "fc6df86b-255f-4e8b-89ab-abf69b07aaec"
      },
      "outputs": [
        {
          "name": "stdout",
          "output_type": "stream",
          "text": [
            "My name's Anton and My name's Anton\n"
          ]
        }
      ],
      "source": [
        "apostrophe_str = \"My name's Anton\"\n",
        "raw_str = r\"My name's Anton\"\n",
        "print(apostrophe_str,  \"and\",  raw_str)"
      ]
    },
    {
      "cell_type": "markdown",
      "metadata": {
        "id": "bg_d8wM4z8dS"
      },
      "source": [
        "7. Створити змінну, що буде посилатися на Ваше прізвище латинкою. Створити форматований рядок, який буде мати вигляд \"My surname is ______\", де на місці нижніх підкреслень буде Ваше прізвище зі змінної."
      ]
    },
    {
      "cell_type": "code",
      "execution_count": null,
      "metadata": {
        "id": "kuxFgpWndACq",
        "outputId": "8c1ca53b-43aa-4a0e-c980-90237f3faf93"
      },
      "outputs": [
        {
          "name": "stdout",
          "output_type": "stream",
          "text": [
            "My name is Pihuliak\n"
          ]
        }
      ],
      "source": [
        "surname = \"Pihuliak\"\n",
        "print(f\"My name is {surname}\")"
      ]
    },
    {
      "cell_type": "markdown",
      "metadata": {
        "id": "1Nc6RqvQ0hxU"
      },
      "source": [
        "8. Маючи рядок \"My dog is crazy.\" перетворити його на список [\"my\", \"dog\", \"is\", \"crazy\"]"
      ]
    },
    {
      "cell_type": "code",
      "execution_count": null,
      "metadata": {
        "id": "w1Ya4RqedUhw",
        "outputId": "aa68ba0e-3f37-44f1-a72f-809f40617b4c"
      },
      "outputs": [
        {
          "name": "stdout",
          "output_type": "stream",
          "text": [
            "['My', 'dog', 'is', 'crazy']\n"
          ]
        }
      ],
      "source": [
        "sad_string = \"My dog is crazy\"\n",
        "some_list = sad_string.split(\" \")\n",
        "print(some_list)"
      ]
    },
    {
      "cell_type": "markdown",
      "metadata": {
        "id": "GYVqN9uP1D4n"
      },
      "source": [
        "# IV. Робота зі списками."
      ]
    },
    {
      "cell_type": "markdown",
      "metadata": {
        "id": "7-DeDunw2sO-"
      },
      "source": [
        "9. Створити список двома різними за синтаксисом способами. За допомогою вбудованої функції обчисліть довжину одного з них."
      ]
    },
    {
      "cell_type": "code",
      "execution_count": null,
      "metadata": {
        "id": "zxg06Uuxdyoh",
        "outputId": "35b82119-ac17-4043-b4d8-99835026297d"
      },
      "outputs": [
        {
          "name": "stdout",
          "output_type": "stream",
          "text": [
            "3\n"
          ]
        }
      ],
      "source": [
        "first_list = (\"first element\", 4, 19)\n",
        "second_list = list(\"yes\")\n",
        "print(len(first_list))"
      ]
    },
    {
      "cell_type": "markdown",
      "metadata": {
        "id": "8vmGUTjL22gI"
      },
      "source": [
        "10. Створіть два списка та за допомогою спеціального методу додайте другий з них в якості останнього елемента першого."
      ]
    },
    {
      "cell_type": "code",
      "execution_count": null,
      "metadata": {
        "id": "uHtjWYw7d7hm",
        "outputId": "b2301b6e-ee22-4f42-f003-cb94a176c709"
      },
      "outputs": [
        {
          "name": "stdout",
          "output_type": "stream",
          "text": [
            "['cool', 56, 8.7, [23, 9.8]]\n"
          ]
        }
      ],
      "source": [
        "bigger_list = [\"cool\", 56, 8.7]\n",
        "smaller_list = [23, 9.8]\n",
        "bigger_list.append(smaller_list)\n",
        "print(bigger_list)"
      ]
    },
    {
      "cell_type": "markdown",
      "metadata": {
        "id": "JC3BkD-67_--"
      },
      "source": [
        "11. Створіть список, де елементами цього списку також є списки. Отримай перший елемент з останнього рядка та виведи значення на екран."
      ]
    },
    {
      "cell_type": "code",
      "execution_count": null,
      "metadata": {
        "id": "Kz2jZHsGeLlz",
        "outputId": "5f256d1b-7f15-41fc-add1-44cdeec6d7f6"
      },
      "outputs": [
        {
          "name": "stdout",
          "output_type": "stream",
          "text": [
            "This is the string we must get\n"
          ]
        }
      ],
      "source": [
        "some_list = [[\"first elem of  first list\", 2, 3.4], [\"first elem of second list\", 5.6, \"elem\"], [\"This is the string we must get\", 7.6, 9.6, \"\"]]\n",
        "print(some_list[-1][0])"
      ]
    },
    {
      "cell_type": "markdown",
      "metadata": {
        "id": "JA47PKTv8zFK"
      },
      "source": [
        "12. Створіть список з десяти елементів різного типу. Отримайте всі елементи, окрім двох перших та двох останніх та збережіть їх в новій змінній."
      ]
    },
    {
      "cell_type": "code",
      "execution_count": null,
      "metadata": {
        "id": "_rHdUR-ueP4-"
      },
      "outputs": [],
      "source": [
        "multiple_types_list = [1, 1.2, \"string\", [\"this is string in list\"], {\"well, it`s string in set\"}, (\"tuple!!\",), True, ]"
      ]
    },
    {
      "cell_type": "markdown",
      "metadata": {
        "id": "pCjR1dJb1Qbi"
      },
      "source": [
        "# V. Робота з кортежами."
      ]
    },
    {
      "cell_type": "markdown",
      "metadata": {
        "id": "fAZCxAX06R_k"
      },
      "source": [
        "14. Створити кортеж з один елементом."
      ]
    },
    {
      "cell_type": "code",
      "execution_count": null,
      "metadata": {
        "id": "H7d82WkQev3e",
        "outputId": "354a5008-d94a-4747-bda7-d1380a95c424"
      },
      "outputs": [
        {
          "name": "stdout",
          "output_type": "stream",
          "text": [
            "True\n"
          ]
        }
      ],
      "source": [
        "one_elem_tuple = (\"some element\",)\n",
        "print(isinstance(one_elem_tuple, tuple))"
      ]
    },
    {
      "cell_type": "markdown",
      "metadata": {
        "id": "8LCtYcmI6w1M"
      },
      "source": [
        "15. Порівняйте список та кортеж. Назвіть схожості та відмінності, випадки використання."
      ]
    },
    {
      "cell_type": "markdown",
      "metadata": {
        "id": "fUsN1Hnue0C6"
      },
      "source": [
        "*місце для текстової відповіді"
      ]
    },
    {
      "cell_type": "markdown",
      "metadata": {
        "id": "m0xrwFijAmDD"
      },
      "source": [
        "16. Створіть кортеж з 11ти елементів чисел з рухомою комою та отримайте кожен парний за індексом елемент в зворотньому порядку. Наприклад, маючи (1.2, 2.3, 3.3, 4.3, 5.3, 6.3, 7.3, 8.3, 9.3, 0.3), отримати (0.3, 8.3, 6.3, 4.3, 2.3). Результат збережіть в нову змінну та виведіть на екран."
      ]
    },
    {
      "cell_type": "code",
      "execution_count": null,
      "metadata": {
        "id": "p-5DAH6XfAGA",
        "outputId": "e301c998-30ca-4c75-8781-68420c6b79d6"
      },
      "outputs": [
        {
          "name": "stdout",
          "output_type": "stream",
          "text": [
            "(0.7, 7.9, 1.1, 8.7, 4.5)\n"
          ]
        }
      ],
      "source": [
        "start_tuple = (1.5, 4.5, 6.7, 8.7, 3.4, 1.1, 2.2, 7.9, 0.9, 0.7, 5.4)\n",
        "end_tuple = start_tuple[-2::-2]\n",
        "print(end_tuple)"
      ]
    },
    {
      "cell_type": "markdown",
      "metadata": {
        "id": "rW_I9dt3x6cW"
      },
      "source": [
        "# VI. Множини (Set)."
      ]
    },
    {
      "cell_type": "markdown",
      "metadata": {
        "id": "zNjRLHLw1Bgg"
      },
      "source": [
        "17. Створити множину без елементів. Після цого за допомогою методу додайте кілька різних елементів до множини. Чи множини є змінним типом даних?"
      ]
    },
    {
      "cell_type": "code",
      "execution_count": null,
      "metadata": {
        "id": "KOv7zc2Kfo4N",
        "outputId": "41f7ca65-3e0f-4bce-9282-f531669e3dd6"
      },
      "outputs": [
        {
          "name": "stdout",
          "output_type": "stream",
          "text": [
            "{5, 'First elem of set'}\n"
          ]
        }
      ],
      "source": [
        "example_set = set()\n",
        "example_set.add(\"First elem of set\")\n",
        "example_set.add(5)\n",
        "print(example_set)"
      ]
    },
    {
      "cell_type": "markdown",
      "metadata": {
        "id": "vxS6dVYiftZQ"
      },
      "source": [
        "*місце для текстової відповіді\n"
      ]
    },
    {
      "cell_type": "markdown",
      "metadata": {
        "id": "V4_Q-BbLMrPd"
      },
      "source": [
        "Множини є справді змінним типом даних."
      ]
    },
    {
      "cell_type": "markdown",
      "metadata": {
        "id": "gHpT0Zw_1HEF"
      },
      "source": [
        "18. Створити множину, маючи список my_list = [1, 1, 2, 67, 67, 8, 9]. Пояснити, чому \"зникли\" деякі елементи."
      ]
    },
    {
      "cell_type": "code",
      "execution_count": null,
      "metadata": {
        "id": "qCN4uvJ_fxmu",
        "outputId": "67ce6a6c-34e7-4d8a-c11f-1ebb70fc9000"
      },
      "outputs": [
        {
          "name": "stdout",
          "output_type": "stream",
          "text": [
            "{1, 2, 67, 8, 9}\n"
          ]
        }
      ],
      "source": [
        "my_list = [1, 1, 2, 67, 67, 8, 9]\n",
        "my_set = set(my_list)\n",
        "print(my_set)"
      ]
    },
    {
      "cell_type": "markdown",
      "metadata": {
        "id": "tFNc1e20fyny"
      },
      "source": [
        "*місце для текстової відповіді"
      ]
    },
    {
      "cell_type": "markdown",
      "metadata": {
        "id": "VbYgQF4MMrPh"
      },
      "source": [
        "Елементи зникли, бо сет містить тільки унікальні елементи і коли він додавав зі списку елементи видалив дублікати."
      ]
    },
    {
      "cell_type": "markdown",
      "metadata": {
        "id": "SRMkGizS1UwY"
      },
      "source": [
        "19. Створіть дві множини. Продемонстуйте над ними операції: обʼєднання, різниці, пересічі та симетричної різниці. Використовуйте методи, що не змінюють множини, а створюють нові."
      ]
    },
    {
      "cell_type": "code",
      "execution_count": null,
      "metadata": {
        "id": "h0T-VuDnf3Ri",
        "outputId": "137e072c-f6ec-4197-a957-c8ec55da0b2c"
      },
      "outputs": [
        {
          "name": "stdout",
          "output_type": "stream",
          "text": [
            "{False, True, 2, 4.5, 5, 'elem', 'other elem'}\n",
            "{2, 'elem'}\n",
            "{True, 'other elem'}\n",
            "{False, True, 'other elem', 4.5, 5}\n"
          ]
        }
      ],
      "source": [
        "first_set = {\"elem\", 2, True, \"other elem\"}\n",
        "second_set = {4.5, 5, 2, False, \"elem\"}\n",
        "print(first_set.union(second_set))\n",
        "print(first_set.intersection(second_set))\n",
        "print(first_set.difference(second_set))\n",
        "print(first_set.symmetric_difference(second_set))"
      ]
    },
    {
      "cell_type": "markdown",
      "metadata": {
        "id": "kWc8gkzTx7Ea"
      },
      "source": [
        "# VII. Словники (Dictionary)."
      ]
    },
    {
      "cell_type": "markdown",
      "metadata": {
        "id": "i5FLwj-B2ybQ"
      },
      "source": [
        "20. Створіть пустий словник. До нього додайте чотири пари елементів такі, щоб їхні ключі були різних типів. Чи може список бути ключем? Чому?"
      ]
    },
    {
      "cell_type": "code",
      "execution_count": null,
      "metadata": {
        "id": "hxgv3BzrgLAV",
        "outputId": "cec521e0-9bf3-4d3e-b66b-b4a39367ff05"
      },
      "outputs": [
        {
          "name": "stdout",
          "output_type": "stream",
          "text": [
            "{2: 'First element', 'index': [3.5, 6, 'element'], (3, 4): '43', True: 678}\n"
          ]
        }
      ],
      "source": [
        "my_dict = {}\n",
        "my_dict[2] = \"First element\"\n",
        "my_dict[\"index\"] = [3.5, 6, \"element\"]\n",
        "my_dict[(3, 4)] = \"43\"\n",
        "my_dict[True] = 678\n",
        "print(my_dict)"
      ]
    },
    {
      "cell_type": "markdown",
      "metadata": {
        "id": "zwa7UVN-gR3m"
      },
      "source": [
        "*місце для текстової відповіді"
      ]
    },
    {
      "cell_type": "markdown",
      "metadata": {
        "id": "hpUYm8xYMrPm"
      },
      "source": [
        "Список не може бути ключем, оскільки ключем можуть бути тільки незмінні (immutable) типи даних, а список змінний."
      ]
    },
    {
      "cell_type": "markdown",
      "metadata": {
        "id": "WM_pMlJsgoNf"
      },
      "source": [
        "21. Створіть словник, де значенням в одній з пар теж буде словник, який теж має вкладений словник. Виведіть на екран значення, що міститься в словнику, що знаходиться на найнижчому рівні ієрархії вкладеності (найбільш внутрішній)."
      ]
    },
    {
      "cell_type": "code",
      "execution_count": null,
      "metadata": {
        "id": "60dlP7IHhAy4",
        "outputId": "3cef04a0-33d8-45f5-fda9-3266ee55aae8"
      },
      "outputs": [
        {
          "name": "stdout",
          "output_type": "stream",
          "text": [
            "value\n"
          ]
        }
      ],
      "source": [
        "some_dict = {\"key\": \"value\"}\n",
        "embedded_dict = {1: some_dict}\n",
        "deep_embedded_dict = {(\"tuple is a key, haha\", True): embedded_dict}\n",
        "\n",
        "print(deep_embedded_dict[(\"tuple is a key, haha\", True)][1][\"key\"])\n"
      ]
    },
    {
      "cell_type": "markdown",
      "metadata": {
        "id": "xOZP0hkx6cCr"
      },
      "source": [
        "# Вітаю! Ви велика(ий) молодець, що впоралась(вся). Похваліть себе та побалуйте чимось приємним. Я Вами пишаюся."
      ]
    }
  ],
  "metadata": {
    "colab": {
      "provenance": [],
      "include_colab_link": true
    },
    "kernelspec": {
      "display_name": "Python 3",
      "name": "python3"
    },
    "language_info": {
      "codemirror_mode": {
        "name": "ipython",
        "version": 3
      },
      "file_extension": ".py",
      "mimetype": "text/x-python",
      "name": "python",
      "nbconvert_exporter": "python",
      "pygments_lexer": "ipython3",
      "version": "3.13.2"
    }
  },
  "nbformat": 4,
  "nbformat_minor": 0
}