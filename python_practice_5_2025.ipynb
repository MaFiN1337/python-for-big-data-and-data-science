{
  "nbformat": 4,
  "nbformat_minor": 0,
  "metadata": {
    "colab": {
      "provenance": [],
      "include_colab_link": true
    },
    "kernelspec": {
      "name": "python3",
      "display_name": "Python 3"
    },
    "language_info": {
      "name": "python"
    }
  },
  "cells": [
    {
      "cell_type": "markdown",
      "metadata": {
        "id": "view-in-github",
        "colab_type": "text"
      },
      "source": [
        "<a href=\"https://colab.research.google.com/github/MaFiN1337/python-for-big-data-and-data-science/blob/master/python_practice_5_2025.ipynb\" target=\"_parent\"><img src=\"https://colab.research.google.com/assets/colab-badge.svg\" alt=\"Open In Colab\"/></a>"
      ]
    },
    {
      "cell_type": "markdown",
      "source": [
        "# I. OOP"
      ],
      "metadata": {
        "id": "5qV_sehzFCTp"
      }
    },
    {
      "cell_type": "markdown",
      "source": [
        "1. (6б). Створіть клас Building, додайте три атрибути, один з яких має значення за замовчуванням та два методи на свій розсуд."
      ],
      "metadata": {
        "id": "tx_U_hOALyfg"
      }
    },
    {
      "cell_type": "code",
      "source": [
        "class Building:\n",
        "  def __init__(self, height, population, floor_num=1):\n",
        "    self.height = height if height > 0 else 1\n",
        "    self.population = population if population > 0 else 1\n",
        "    self.floor_num = floor_num if floor_num > 0 else 1\n",
        "\n",
        "  def average_floor_num(self):\n",
        "    return self.floor_num // self.height\n",
        "\n",
        "  def population_per_floor(self):\n",
        "    return self.population // self.floor_num"
      ],
      "metadata": {
        "id": "-Vf895KaL88N"
      },
      "execution_count": 1,
      "outputs": []
    },
    {
      "cell_type": "markdown",
      "source": [
        "2. (2б). Створіть два обʼєкти цього класу, де один з обʼєктів створюється із дефолтним значенням атрибуту. На одному обʼєкті отримайте значення його атрибуту, а на іншому викличте один з його методів."
      ],
      "metadata": {
        "id": "X_UlOMB0L93w"
      }
    },
    {
      "cell_type": "code",
      "source": [
        "big_building = Building(30, 100, 7)\n",
        "small_building = Building(12, 35)\n",
        "print(big_building.population)\n",
        "print(small_building.population_per_floor())"
      ],
      "metadata": {
        "id": "7gBu0ESOMCpG",
        "colab": {
          "base_uri": "https://localhost:8080/"
        },
        "outputId": "08d10e1c-ef3f-4fa6-fddf-0bfedf12a402"
      },
      "execution_count": 5,
      "outputs": [
        {
          "output_type": "stream",
          "name": "stdout",
          "text": [
            "100\n",
            "35\n"
          ]
        }
      ]
    },
    {
      "cell_type": "markdown",
      "source": [
        "3. (5б). Створіть клас, де атрибути мають різні рівні доступу. Спробуйте отримати їхні значення та опишіть результати."
      ],
      "metadata": {
        "id": "HoqSCZt1MHn5"
      }
    },
    {
      "cell_type": "code",
      "source": [
        "class SportCar:\n",
        "  def __init__(self, weight, engine_power, manufacturer=\"Toyota\"):\n",
        "    self._weight = weight if weight > 100 else 1000\n",
        "    self.__engine_power = engine_power if engine_power > 10 else 50\n",
        "    self.manufacturer = manufacturer\n",
        "\n",
        "my_new_car = SportCar(978, 600, \"Ford\")\n",
        "print(f\"You can get public attribute manufacturer {my_new_car.manufacturer} and also you can get protected attribute _weight {my_new_car._weight}, though it is not good thing to do\")\n",
        "print(\"But if you try to access private attribute, you will get:\")\n",
        "print(my_new_car.__engine_power)"
      ],
      "metadata": {
        "id": "r9b3vJxBMSPV",
        "colab": {
          "base_uri": "https://localhost:8080/",
          "height": 228
        },
        "outputId": "4236b40f-945f-412c-e6c5-4ae2925bc242"
      },
      "execution_count": 7,
      "outputs": [
        {
          "output_type": "stream",
          "name": "stdout",
          "text": [
            "You can get public attribute manufacturer Ford and also you can get protected attribute _weight 978, though it is not good thing to do\n",
            "But if you try to access private attribute, you will get:\n"
          ]
        },
        {
          "output_type": "error",
          "ename": "AttributeError",
          "evalue": "'SportCar' object has no attribute '__engine_power'",
          "traceback": [
            "\u001b[0;31m---------------------------------------------------------------------------\u001b[0m",
            "\u001b[0;31mAttributeError\u001b[0m                            Traceback (most recent call last)",
            "\u001b[0;32m<ipython-input-7-8c9fe6c3c853>\u001b[0m in \u001b[0;36m<cell line: 0>\u001b[0;34m()\u001b[0m\n\u001b[1;32m      8\u001b[0m \u001b[0mprint\u001b[0m\u001b[0;34m(\u001b[0m\u001b[0;34mf\"You can get public attribute manufacturer {my_new_car.manufacturer} and also you can get protected attribute _weight {my_new_car._weight}, though it is not good thing to do\"\u001b[0m\u001b[0;34m)\u001b[0m\u001b[0;34m\u001b[0m\u001b[0;34m\u001b[0m\u001b[0m\n\u001b[1;32m      9\u001b[0m \u001b[0mprint\u001b[0m\u001b[0;34m(\u001b[0m\u001b[0;34m\"But if you try to access private attribute, you will get:\"\u001b[0m\u001b[0;34m)\u001b[0m\u001b[0;34m\u001b[0m\u001b[0;34m\u001b[0m\u001b[0m\n\u001b[0;32m---> 10\u001b[0;31m \u001b[0mprint\u001b[0m\u001b[0;34m(\u001b[0m\u001b[0mmy_new_car\u001b[0m\u001b[0;34m.\u001b[0m\u001b[0m__engine_power\u001b[0m\u001b[0;34m)\u001b[0m\u001b[0;34m\u001b[0m\u001b[0;34m\u001b[0m\u001b[0m\n\u001b[0m",
            "\u001b[0;31mAttributeError\u001b[0m: 'SportCar' object has no attribute '__engine_power'"
          ]
        }
      ]
    },
    {
      "cell_type": "markdown",
      "source": [
        "4. (7б). Як ви розумієте термін self? Для чого використовується метод __init __?"
      ],
      "metadata": {
        "id": "5op2m2vgMSkZ"
      }
    },
    {
      "cell_type": "markdown",
      "source": [
        "self is like a reference to the instance of class that you use to have your object's properties/attributes/methods in a function you are calling<br>\n",
        "__init__ method is used to describe how do you want to initialize your object, what attributes must it have and to check for correct arguments while creating object. It is a constuctor of class and is called when instance is created."
      ],
      "metadata": {
        "id": "DyiPqNRvMasx"
      }
    },
    {
      "cell_type": "markdown",
      "source": [
        "5. (9б). Створіть клас 3D-фігура без атрибутів, з методом get_volume для отримання об'єму фігури, що повертає 0 та __add __, який приймає self та other в якості аргументів, а повертає суму об'ємів 3d-фігур self та other."
      ],
      "metadata": {
        "id": "-6X8EGfjMd2y"
      }
    },
    {
      "cell_type": "code",
      "source": [
        "class Figure3D:\n",
        "  def __init__(self):\n",
        "    pass\n",
        "\n",
        "  def get_volume(self):\n",
        "    return 0\n",
        "\n",
        "  def __add__(self, other):\n",
        "    return self.get_volume() + other.get_volume()"
      ],
      "metadata": {
        "id": "4rvO_wYUMaEr"
      },
      "execution_count": 8,
      "outputs": []
    },
    {
      "cell_type": "markdown",
      "source": [
        "6. (11б). Створіть 2 дочірніх класи від 3d-фігура: Циліндр та Куб, які мають атрибути, необхідні для розрахунку об'єму. Визначте метод get_volume в кожному з них так, щоби вони розраховували об'єм у залежності від формули для кожного типу фігури. Створіть обʼєкт класу Циліндр та обʼєкт класу Куб. Виконайте операцію суми за допомогою оператора + між ними, аби знайти сумарний об'єм."
      ],
      "metadata": {
        "id": "SFcKnnv5Mo_z"
      }
    },
    {
      "cell_type": "code",
      "source": [
        "class Cylinder(Figure3D):\n",
        "  PI = 3.141592\n",
        "  def __init__(self, radius, height):\n",
        "    super().__init__()\n",
        "    self.radius = radius if radius > 0 else 1\n",
        "    self.height = height if height > 0 else 1\n",
        "\n",
        "  def get_volume(self):\n",
        "    return (self.radius ** 2)*self.height*self.PI\n",
        "\n",
        "class Cube(Figure3D):\n",
        "  def __init__(self, side_length):\n",
        "    super().__init__()\n",
        "    self.length = side_length if side_length > 0 else 1\n",
        "\n",
        "  def get_volume(self):\n",
        "    return self.length ** 3\n",
        "new_cylinder = Cylinder(5, 8)\n",
        "new_cube = Cube(6)\n",
        "print(new_cube + new_cylinder)"
      ],
      "metadata": {
        "id": "H3GVNr69Muf3",
        "colab": {
          "base_uri": "https://localhost:8080/"
        },
        "outputId": "0c4e7bbf-b394-4245-b19b-92fa02c28b8f"
      },
      "execution_count": 9,
      "outputs": [
        {
          "output_type": "stream",
          "name": "stdout",
          "text": [
            "844.3184\n"
          ]
        }
      ]
    },
    {
      "cell_type": "markdown",
      "source": [
        "7. (3б). Продемонструйте різницю між isinstance та issubclass."
      ],
      "metadata": {
        "id": "HCvR206YMvLK"
      }
    },
    {
      "cell_type": "code",
      "source": [],
      "metadata": {
        "id": "L_V1bBvDM0GN"
      },
      "execution_count": null,
      "outputs": []
    },
    {
      "cell_type": "markdown",
      "source": [
        "8. (13б). Створіть клас EWallet з приватними атрибутами balance та id. Реалізуйте методи поповнення та зняття коштів, забезпечивши належну інкапсуляцію. Підказка: використовуйте декоратори property та setter."
      ],
      "metadata": {
        "id": "jjsaBZ-iM0Qq"
      }
    },
    {
      "cell_type": "code",
      "source": [
        "class EWallet:\n",
        "  def __init__(self, balance, id):\n",
        "    self.__balance = balance\n",
        "    self.__id = id\n",
        "\n",
        "  @property\n",
        "  def balance(self):\n",
        "    return self.__balance\n",
        "\n",
        "  @balance.setter\n",
        "  def balance(self, sum):\n",
        "    self.__balance = sum if sum >= 0 else self.__balance\n",
        "\n",
        "  def deposit_money(self, sum=0):\n",
        "    self.balance += sum\n",
        "\n",
        "  def withdraw_money(self, sum=0):\n",
        "    if self.balance < sum or sum < 0:\n",
        "      print(\"Lacking funds to complete the transaction\")\n",
        "    else:\n",
        "      self.balance -= sum"
      ],
      "metadata": {
        "id": "xCvZ7lh8M7YA"
      },
      "execution_count": 12,
      "outputs": []
    },
    {
      "cell_type": "markdown",
      "source": [
        "9. (11б). Створіть клас ShoppingCart, який містить список об'єктів типу Item. Реалізуйте методи для додавання айтемів, їх видалення та відображення списку айтемів."
      ],
      "metadata": {
        "id": "tIzL2SJTM8ft"
      }
    },
    {
      "cell_type": "code",
      "source": [],
      "metadata": {
        "id": "HWxfJKLtNAUZ"
      },
      "execution_count": null,
      "outputs": []
    },
    {
      "cell_type": "markdown",
      "source": [
        "10. (13б). Створіть клас Vehicle з атрибутами brand (manufacturer) та production_age. Створіть ще один клас Engine з такими атрибутами, як type (ex. petrol) та size (volume, litres). Створіть клас Car, який успадковує обидва класи Vehicle та Engine. Продемонструйте використання множинної спадковості, створивши обʼєкт класу Car та отримавши mro для цього класу."
      ],
      "metadata": {
        "id": "lmV8pAwwNIqu"
      }
    },
    {
      "cell_type": "code",
      "source": [
        "class Vehicle:\n",
        "  def __init__(self, brand, production_age):\n",
        "    self.brand = brand\n",
        "    self.production_age = production_age if production_age > 0 else 1\n",
        "class Engine:\n",
        "  def __init__(self, eng_type, volume):\n",
        "    self.eng_type = eng_type\n",
        "    self.volume = volume if volume > 0 else 100\n",
        "class Car(Vehicle, Engine):\n",
        "  def __init__(self, brand, production_age, eng_type, volume):\n",
        "    Vehicle.__init__(self, brand, production_age)\n",
        "    Engine.__init__(self, eng_type, volume)\n",
        "new_car = Car(\"Mazda\", 4, \"petrol\", 1500)\n",
        "print(Car.mro())"
      ],
      "metadata": {
        "id": "R49grKlWNPeN",
        "colab": {
          "base_uri": "https://localhost:8080/"
        },
        "outputId": "2bbdf7d5-2d6c-4f15-9664-14a1a6f9dfa5"
      },
      "execution_count": 15,
      "outputs": [
        {
          "output_type": "stream",
          "name": "stdout",
          "text": [
            "[<class '__main__.Car'>, <class '__main__.Vehicle'>, <class '__main__.Engine'>, <class 'object'>]\n"
          ]
        }
      ]
    },
    {
      "cell_type": "markdown",
      "source": [
        "# II. Iterator"
      ],
      "metadata": {
        "id": "dIJyUiNBFG8G"
      }
    },
    {
      "cell_type": "markdown",
      "source": [
        "11. (4б). Визначте рядок(str) з 4ма різними за значенням символами. Створіть ітератор на основі цього рядка. Викличте 5 разів функцію next на ітераторі, 4ри перших з них огорніть у ф-цію print()."
      ],
      "metadata": {
        "id": "13vsm0NyKIzL"
      }
    },
    {
      "cell_type": "code",
      "source": [
        "some_string = \"abcd\"\n",
        "my_iterator = iter(some_string)\n",
        "print(f\"first iteration: {next(my_iterator)}\")\n",
        "print(f\"second iteration: {next(my_iterator)}\")\n",
        "print(f\"third iteration: {next(my_iterator)}\")\n",
        "print(f\"fourth iteration: {next(my_iterator)}\")\n",
        "next(my_iterator)"
      ],
      "metadata": {
        "id": "81ntabAkKuz-",
        "colab": {
          "base_uri": "https://localhost:8080/",
          "height": 245
        },
        "outputId": "a616d19e-24fe-4795-d053-10518c7afc39"
      },
      "execution_count": 18,
      "outputs": [
        {
          "output_type": "stream",
          "name": "stdout",
          "text": [
            "first iteration: a\n",
            "second iteration: b\n",
            "third iteration: c\n",
            "fourth iteration: d\n"
          ]
        },
        {
          "output_type": "error",
          "ename": "StopIteration",
          "evalue": "",
          "traceback": [
            "\u001b[0;31m---------------------------------------------------------------------------\u001b[0m",
            "\u001b[0;31mStopIteration\u001b[0m                             Traceback (most recent call last)",
            "\u001b[0;32m<ipython-input-18-c108f4e24275>\u001b[0m in \u001b[0;36m<cell line: 0>\u001b[0;34m()\u001b[0m\n\u001b[1;32m      5\u001b[0m \u001b[0mprint\u001b[0m\u001b[0;34m(\u001b[0m\u001b[0;34mf\"third iteration: {next(my_iterator)}\"\u001b[0m\u001b[0;34m)\u001b[0m\u001b[0;34m\u001b[0m\u001b[0;34m\u001b[0m\u001b[0m\n\u001b[1;32m      6\u001b[0m \u001b[0mprint\u001b[0m\u001b[0;34m(\u001b[0m\u001b[0;34mf\"fourth iteration: {next(my_iterator)}\"\u001b[0m\u001b[0;34m)\u001b[0m\u001b[0;34m\u001b[0m\u001b[0;34m\u001b[0m\u001b[0m\n\u001b[0;32m----> 7\u001b[0;31m \u001b[0mnext\u001b[0m\u001b[0;34m(\u001b[0m\u001b[0mmy_iterator\u001b[0m\u001b[0;34m)\u001b[0m\u001b[0;34m\u001b[0m\u001b[0;34m\u001b[0m\u001b[0m\n\u001b[0m",
            "\u001b[0;31mStopIteration\u001b[0m: "
          ]
        }
      ]
    },
    {
      "cell_type": "markdown",
      "source": [
        "А що якщо викликати цю ж функцію на рядку?"
      ],
      "metadata": {
        "id": "aekWHGXOLRsO"
      }
    },
    {
      "cell_type": "code",
      "source": [],
      "metadata": {
        "id": "mxATGsErLV1i"
      },
      "execution_count": null,
      "outputs": []
    },
    {
      "cell_type": "markdown",
      "source": [
        " 12. (5б). Опишіть своїми словами в одному реченні, як ви розумієте різницю між ітерабельними обʼєктами та ітераторами (можна на прикладі)."
      ],
      "metadata": {
        "id": "XwtMEopwJ4pH"
      }
    },
    {
      "cell_type": "markdown",
      "source": [
        "*місце для відповіді"
      ],
      "metadata": {
        "id": "-sHrODc3KFn8"
      }
    },
    {
      "cell_type": "markdown",
      "source": [
        "13. (11б). Створіть клас, що має визначений Iterator Protocol та при кожному виклику next повертає назву дня тижня, поки вони не вичерпаються. Зверніть увагу, що порядок має значення."
      ],
      "metadata": {
        "id": "E9qJWmNbK8Gl"
      }
    },
    {
      "cell_type": "code",
      "source": [],
      "metadata": {
        "id": "cqx-g_RsLo6I"
      },
      "execution_count": null,
      "outputs": []
    },
    {
      "cell_type": "markdown",
      "source": [
        "# Вітаю! Ви велика(ий) молодець, що впоралась(вся). Похваліть себе та побалуйте чимось приємним. Я Вами пишаюся."
      ],
      "metadata": {
        "id": "Z3E3S_s1Fv7-"
      }
    }
  ]
}